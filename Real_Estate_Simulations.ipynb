{
  "nbformat": 4,
  "nbformat_minor": 0,
  "metadata": {
    "colab": {
      "name": "Real_Estate_Simulations.ipynb",
      "provenance": [],
      "collapsed_sections": [],
      "authorship_tag": "ABX9TyPl9GszFzyKoeqAWgwVu6gN",
      "include_colab_link": true
    },
    "kernelspec": {
      "name": "python3",
      "display_name": "Python 3"
    },
    "language_info": {
      "name": "python"
    }
  },
  "cells": [
    {
      "cell_type": "markdown",
      "metadata": {
        "id": "view-in-github",
        "colab_type": "text"
      },
      "source": [
        "<a href=\"https://colab.research.google.com/github/meishars/Playing_around/blob/main/Real_Estate_Simulations.ipynb\" target=\"_parent\"><img src=\"https://colab.research.google.com/assets/colab-badge.svg\" alt=\"Open In Colab\"/></a>"
      ]
    },
    {
      "cell_type": "markdown",
      "source": [
        "# Real-Estats Simulations"
      ],
      "metadata": {
        "id": "6qykPpp9jyxR"
      }
    },
    {
      "cell_type": "markdown",
      "source": [
        "## Hyperparameters\n",
        "* Morgage\n",
        "* The Apartment\n",
        "* Renting \n",
        "* additional expenses"
      ],
      "metadata": {
        "id": "DwSbkdvHj56u"
      }
    },
    {
      "cell_type": "code",
      "source": [
        "import numpy as np\n",
        "import matplotlib.pyplot as plt\n",
        "\n",
        "%matplotlib inline  "
      ],
      "metadata": {
        "id": "dA7Pc7w8nQix"
      },
      "execution_count": null,
      "outputs": []
    },
    {
      "cell_type": "code",
      "execution_count": null,
      "metadata": {
        "id": "3Z9ETNtUjwr3"
      },
      "outputs": [],
      "source": [
        "class Morgage():\n",
        "  def __init__(self, apartment, interest_rate, personal_fund, num_of_years):\n",
        "    self.total_sum_of_loan = total_sum_of_loan\n",
        "    self.interest_rate = interest_rate\n",
        "    self.personal_fund = personal_fund\n",
        "    self.num_of_years = num_of_years\n",
        "    self.percentExtFund = (total_sum_of_loan - personal_fund) / total_sum_of_loan\n",
        "\n",
        "  def calculateVector(self):\n",
        "    self.np.zeros(1, self.num_of_years)\n",
        "    monthly_price_before_interest = self.total_sum_of_loan / self.num_of_years\n"
      ]
    },
    {
      "cell_type": "code",
      "source": [
        "class Apartment():\n",
        "  def __init__(self, city, price_for_apartment, num_of_rooms, meterage, distance_from_PT, renting_price, balcony = True, parking = True, elevator = True, mediator = True):\n",
        "    self.city = city\n",
        "    self.price_for_apartment = price_for_apartment\n",
        "    self.num_of_rooms = num_of_rooms\n",
        "    self.meterage = meterage\n",
        "    self.distance_from_PT = distance_from_PT\n",
        "    self.renting_price = renting_price\n",
        "    self.balcony = balcony\n",
        "    self.parking = parking\n",
        "    self.elevator = elevator\n",
        "\n",
        "class Apartment_from_contractor(Apartment):\n",
        "  def __init__(self, years_ready, percent_Tsumut):\n",
        "    pass\n",
        "\n",
        "class Apartment_yad2(Apartment):\n",
        "  def __init__(self, years_from_renovation, TAMA = True):\n",
        "    pass"
      ],
      "metadata": {
        "id": "m4_Ug8iDlUQy"
      },
      "execution_count": null,
      "outputs": []
    },
    {
      "cell_type": "code",
      "source": [
        "class Rent():\n",
        "  def __init__(self, monthly_payment, yearly_percent_change):\n",
        "    pass  "
      ],
      "metadata": {
        "id": "Owm7jQ8Ku2nw"
      },
      "execution_count": null,
      "outputs": []
    },
    {
      "cell_type": "code",
      "source": [
        "class Income():\n",
        "  def __init__(self, salary, years):\n",
        "    self.salary = salary\n",
        "    self.years = years\n",
        "    \n",
        "  def calculateVector(self):\n",
        "    return (np.ones((1, self.years)) * self.salary)\n",
        "    "
      ],
      "metadata": {
        "id": "eWgt4hwavW8y"
      },
      "execution_count": null,
      "outputs": []
    },
    {
      "cell_type": "code",
      "source": [
        "class Other_expanses():\n",
        "  def __init__(self, base_expanses, child_expanses, morgage,years)   :\n",
        "    self.base_expanses = base_expanses\n",
        "    self.child_expanses = child_expanses\n",
        "    self.morgage = morgage\n",
        "    self.years = int(years)\n",
        "    self.expanses_vector = None\n",
        "\n",
        "  def generate_vector(self):\n",
        "    self.expanses_vector = np.zeros((1,self.years))\n",
        "    self.expanses_vector = (self.expanses_vector + self.base_expanses + self.child_expanses + self.morgage)[0]\n",
        "    print(\"expanses vector has been created\")\n",
        "    # print(self.expanses_vector)\n",
        "  \n",
        "  def addExpanses(self, year, sum, verbose = False):\n",
        "    print(self.expanses_vector)\n",
        "    print(f\"changed year num {year} from {self.expanses_vector[year-1]} to {self.expanses_vector[year-1] + sum}\")\n",
        "    self.expanses_vector[year-1] += sum\n",
        "\n"
      ],
      "metadata": {
        "id": "lf3LzA6MwAY0"
      },
      "execution_count": null,
      "outputs": []
    },
    {
      "cell_type": "code",
      "source": [
        "test_expanses = Other_expanses(9000, 5000, morgage = 6800, years = 30)\n",
        "test_expanses.generate_vector()\n",
        "print(test_expanses.expanses_vector)\n",
        "test_expanses.addExpanses(1,-5000) # no child in 1st year\n",
        "plt.plot(test_expanses.expanses_vector, '.-', color='red')\n"
      ],
      "metadata": {
        "colab": {
          "base_uri": "https://localhost:8080/",
          "height": 423
        },
        "id": "Z-smLvF0yH3i",
        "outputId": "d6fd6ce2-0493-406c-a465-0795296ea969"
      },
      "execution_count": null,
      "outputs": [
        {
          "output_type": "stream",
          "name": "stdout",
          "text": [
            "expanses vector has been created\n",
            "[20800. 20800. 20800. 20800. 20800. 20800. 20800. 20800. 20800. 20800.\n",
            " 20800. 20800. 20800. 20800. 20800. 20800. 20800. 20800. 20800. 20800.\n",
            " 20800. 20800. 20800. 20800. 20800. 20800. 20800. 20800. 20800. 20800.]\n",
            "[20800. 20800. 20800. 20800. 20800. 20800. 20800. 20800. 20800. 20800.\n",
            " 20800. 20800. 20800. 20800. 20800. 20800. 20800. 20800. 20800. 20800.\n",
            " 20800. 20800. 20800. 20800. 20800. 20800. 20800. 20800. 20800. 20800.]\n",
            "changed year num 1 from 20800.0 to 15800.0\n"
          ]
        },
        {
          "output_type": "execute_result",
          "data": {
            "text/plain": [
              "[<matplotlib.lines.Line2D at 0x7fe828589e90>]"
            ]
          },
          "metadata": {},
          "execution_count": 182
        },
        {
          "output_type": "display_data",
          "data": {
            "image/png": "[encoded data removed]",
            "text/plain": [
              "<Figure size 432x288 with 1 Axes>"
            ]
          },
          "metadata": {
            "needs_background": "light"
          }
        }
      ]
    },
    {
      "cell_type": "code",
      "source": [
        "# test_apartment = Apartment('Ramat Hasharon', 2700000, num_of_rooms = 4, meterage = 100, distance_from_PT = None, renting_price =, balcony = True, parking = True, elevator = True, mediator = True)"
      ],
      "metadata": {
        "id": "ndq7YeN2xrvx"
      },
      "execution_count": null,
      "outputs": []
    },
    {
      "cell_type": "markdown",
      "source": [
        "\n",
        "**salary Or:**\n",
        "* 1-2 - 12900 \n",
        "* 3-8 - 5000 \n",
        "* 9-30 - 10000\n",
        "\n",
        "**salary Meishar:**\n",
        "* 1 - 12000\n",
        "* 2-4 - 15000\n",
        "* 5-30 - 18000\n",
        "\n"
      ],
      "metadata": {
        "id": "-gPiBhd_4Bgt"
      }
    },
    {
      "cell_type": "code",
      "source": [
        "def concat_vectors(list_of_numpy_vectors):\n",
        "  return np.concatenate(list_of_numpy_vectors, axis=1 )"
      ],
      "metadata": {
        "id": "t8E2j0Fy5hsF"
      },
      "execution_count": null,
      "outputs": []
    },
    {
      "cell_type": "code",
      "source": [
        "OrSalary1 = Income(12900, 2)\n",
        "OrSalary2 = Income(5000, 6)\n",
        "OrSalary3 = Income(10000, 22)\n",
        "\n",
        "MeisharSalary1 = Income(12000, 1)\n",
        "MeisharSalary2 = Income(15000, 3)\n",
        "MeisharSalary3 = Income(18000, 26)\n",
        "\n",
        "yearly_salary_meishar = concat_vectors([MeisharSalary1.calculateVector(), MeisharSalary2.calculateVector(), MeisharSalary3.calculateVector()])\n",
        "yearly_salary_or = concat_vectors([OrSalary1.calculateVector(), OrSalary2.calculateVector(), OrSalary3.calculateVector()])\n",
        "\n",
        "total_salaries = (yearly_salary_meishar + yearly_salary_or)[0]\n",
        "\n",
        "from matplotlib.pyplot import figure\n",
        "\n",
        "figure(figsize=(8, 6), dpi=80)\n",
        "plt.plot(total_salaries, '.-')\n",
        "\n",
        "\n",
        "print(total_salaries)\n",
        "plt.ylim(0,)\n",
        "\n"
      ],
      "metadata": {
        "colab": {
          "base_uri": "https://localhost:8080/",
          "height": 482
        },
        "id": "vHIcDgoDyKPC",
        "outputId": "978ca2a4-a834-4645-adbc-cc9b5e157cff"
      },
      "execution_count": null,
      "outputs": [
        {
          "output_type": "stream",
          "name": "stdout",
          "text": [
            "[24900. 27900. 20000. 20000. 23000. 23000. 23000. 23000. 28000. 28000.\n",
            " 28000. 28000. 28000. 28000. 28000. 28000. 28000. 28000. 28000. 28000.\n",
            " 28000. 28000. 28000. 28000. 28000. 28000. 28000. 28000. 28000. 28000.]\n"
          ]
        },
        {
          "output_type": "execute_result",
          "data": {
            "text/plain": [
              "(0.0, 28400.0)"
            ]
          },
          "metadata": {},
          "execution_count": 186
        },
        {
          "output_type": "display_data",
          "data": {
            "image/png": "[encoded data removed]",
            "text/plain": [
              "<Figure size 640x480 with 1 Axes>"
            ]
          },
          "metadata": {
            "needs_background": "light"
          }
        }
      ]
    },
    {
      "cell_type": "code",
      "source": [
        "salaries_and_base_outcome = total_salaries - test_expanses.expanses_vector\n",
        "plt.plot(salaries_and_base_outcome, '.-', color = 'orange')"
      ],
      "metadata": {
        "colab": {
          "base_uri": "https://localhost:8080/",
          "height": 282
        },
        "id": "V9NctAAN626B",
        "outputId": "0cdd3b8c-a2d0-44a0-8e4f-a3624903c555"
      },
      "execution_count": null,
      "outputs": [
        {
          "output_type": "execute_result",
          "data": {
            "text/plain": [
              "[<matplotlib.lines.Line2D at 0x7fe828478950>]"
            ]
          },
          "metadata": {},
          "execution_count": 187
        },
        {
          "output_type": "display_data",
          "data": {
            "image/png": "[encoded data removed]",
            "text/plain": [
              "<Figure size 432x288 with 1 Axes>"
            ]
          },
          "metadata": {
            "needs_background": "light"
          }
        }
      ]
    },
    {
      "cell_type": "code",
      "source": [
        "plt.figure(figsize=(25,10))\n",
        "\n",
        "N = len(total_salaries)\n",
        "width = 0.4\n",
        "ind = np.arange(N)\n",
        "\n",
        "plt.bar(ind, total_salaries , width, label='Salaries')\n",
        "plt.bar(ind+width, test_expanses.expanses_vector , width, label='Expanses')\n",
        "\n",
        "plt.legend(loc='best')\n"
      ],
      "metadata": {
        "colab": {
          "base_uri": "https://localhost:8080/",
          "height": 609
        },
        "id": "u9QwLiZAFrZ2",
        "outputId": "259e7120-6e05-47c1-aed3-bdad3a7c0320"
      },
      "execution_count": null,
      "outputs": [
        {
          "output_type": "execute_result",
          "data": {
            "text/plain": [
              "<matplotlib.legend.Legend at 0x7fe8283bab10>"
            ]
          },
          "metadata": {},
          "execution_count": 188
        },
        {
          "output_type": "display_data",
          "data": {
            "image/png": "[encoded data removed]",
            "text/plain": [
              "<Figure size 1800x720 with 1 Axes>"
            ]
          },
          "metadata": {
            "needs_background": "light"
          }
        }
      ]
    },
    {
      "cell_type": "code",
      "source": [
        ""
      ],
      "metadata": {
        "id": "AHaHr8909f8U"
      },
      "execution_count": null,
      "outputs": []
    }
  ]
}