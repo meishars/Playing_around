{
  "nbformat": 4,
  "nbformat_minor": 0,
  "metadata": {
    "colab": {
      "name": "Playing_around_with_colab",
      "provenance": [],
      "authorship_tag": "ABX9TyPjHd+GzbdsQDo9htdaSFk8",
      "include_colab_link": true
    },
    "kernelspec": {
      "name": "python3",
      "display_name": "Python 3"
    },
    "language_info": {
      "name": "python"
    }
  },
  "cells": [
    {
      "cell_type": "markdown",
      "metadata": {
        "id": "view-in-github",
        "colab_type": "text"
      },
      "source": [
        "<a href=\"https://colab.research.google.com/github/meishars/Playing_around/blob/main/Playing_around_with_colab.ipynb\" target=\"_parent\"><img src=\"https://colab.research.google.com/assets/colab-badge.svg\" alt=\"Open In Colab\"/></a>"
      ]
    },
    {
      "cell_type": "markdown",
      "source": [
        "# This is a test notebook"
      ],
      "metadata": {
        "id": "oqx_c86KiCGh"
      }
    },
    {
      "cell_type": "code",
      "source": [
        "print(\"Test succeeded\")"
      ],
      "metadata": {
        "colab": {
          "base_uri": "https://localhost:8080/"
        },
        "id": "tRLY4CNFiMpE",
        "outputId": "e0abce19-bf1e-453a-8a3d-dca67518c263"
      },
      "execution_count": 2,
      "outputs": [
        {
          "output_type": "stream",
          "name": "stdout",
          "text": [
            "Test succeeded\n"
          ]
        }
      ]
    },
    {
      "cell_type": "code",
      "source": [
        ""
      ],
      "metadata": {
        "id": "gViKoAMZiO64"
      },
      "execution_count": null,
      "outputs": []
    }
  ]
}